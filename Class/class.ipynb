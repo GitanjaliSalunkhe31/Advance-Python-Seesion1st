{
 "cells": [
  {
   "cell_type": "code",
   "execution_count": 2,
   "id": "be88cadf",
   "metadata": {},
   "outputs": [],
   "source": [
    "from dataclasses import dataclass\n",
    "from  typing import Union , List , Literal\n",
    " "
   ]
  },
  {
   "cell_type": "code",
   "execution_count": 2,
   "id": "adeb731e",
   "metadata": {},
   "outputs": [],
   "source": [
    "@dataclass\n",
    "class Student:\n",
    "    Name : str\n",
    "    Marks : int|float\n",
    "    Age  : int\n",
    "    Gender : Literal[\"Male\" , \"Female\"]\n",
    "    Hobbies : List[str]\n",
    " \n",
    "    ## add method info\n",
    "    def info(self):\n",
    "        print(f'I am  {self.Name}')\n",
    "        print(f\"Marks i got {self.Marks}\")\n",
    "        print(f'I am  {self.Age} years old')\n",
    "        print(f' I am  {self.Gender}')\n",
    "        print(f'My Hobbies are  {self.Hobbies}')\n",
    " "
   ]
  },
  {
   "cell_type": "code",
   "execution_count": 3,
   "id": "68f1316b",
   "metadata": {},
   "outputs": [],
   "source": [
    "@dataclass\n",
    "class Account:\n",
    "    acc_name  : str\n",
    "    acc_no : int\n",
    "    balance  :  int|float\n",
    " \n",
    "    # create method  check balance\n",
    "    def Check_balance(self):\n",
    "        print(f'Current balanace of  Account  {self.acc_no} is {self.balance} ')\n",
    "   \n",
    " \n",
    " \n",
    "   ## Deposite money\n",
    "    def  deposite(self,  amount :int|float):\n",
    "        print(f'Amount of  {amount} is   deposited in {self.acc_no}')\n",
    "        self.balance += amount\n",
    "        return  self.Check_balance()\n",
    "   \n",
    "    ## Withdraw  money\n",
    "    def Withdraw(self  , amount :  int|float):\n",
    "        if amount <= self.balance:\n",
    "            print(f'Amount of  {amount} is Withdrawed from  {self.acc_no} ')\n",
    "            self.balance = self.balance - amount\n",
    "            return  self.Check_balance()\n",
    "        else:\n",
    "            raise ValueError(\"Insufficient balance\")\n",
    "       \n",
    " \n",
    "## transfer money\n",
    " \n",
    "    def Transfer(self, amount  :  int|float , ac =  \"Account\"):\n",
    "        self.Withdraw(amount)\n",
    "        ac.deposite(amount)\n",
    " \n",
    "       \n",
    " "
   ]
  },
  {
   "cell_type": "code",
   "execution_count": 4,
   "id": "8e194c70",
   "metadata": {},
   "outputs": [],
   "source": [
    "A1 = Account(acc_name= \"Gita\", acc_no=109, balance=8000)"
   ]
  },
  {
   "cell_type": "code",
   "execution_count": 5,
   "id": "85c2836f",
   "metadata": {},
   "outputs": [
    {
     "data": {
      "text/plain": [
       "'Gita'"
      ]
     },
     "execution_count": 5,
     "metadata": {},
     "output_type": "execute_result"
    }
   ],
   "source": [
    "A1.acc_name"
   ]
  },
  {
   "cell_type": "code",
   "execution_count": 6,
   "id": "63239f4b",
   "metadata": {},
   "outputs": [
    {
     "data": {
      "text/plain": [
       "109"
      ]
     },
     "execution_count": 6,
     "metadata": {},
     "output_type": "execute_result"
    }
   ],
   "source": [
    "A1.acc_no"
   ]
  },
  {
   "cell_type": "code",
   "execution_count": 7,
   "id": "6bc8fc16",
   "metadata": {},
   "outputs": [
    {
     "data": {
      "text/plain": [
       "8000"
      ]
     },
     "execution_count": 7,
     "metadata": {},
     "output_type": "execute_result"
    }
   ],
   "source": [
    "A1.balance"
   ]
  },
  {
   "cell_type": "code",
   "execution_count": 8,
   "id": "f82a4076",
   "metadata": {},
   "outputs": [
    {
     "name": "stdout",
     "output_type": "stream",
     "text": [
      "Amount of  700 is   deposited in 109\n",
      "Current balanace of  Account  109 is 8700 \n"
     ]
    }
   ],
   "source": [
    "A1.deposite(700)"
   ]
  },
  {
   "cell_type": "code",
   "execution_count": 9,
   "id": "58e8e43b",
   "metadata": {},
   "outputs": [
    {
     "name": "stdout",
     "output_type": "stream",
     "text": [
      "Amount of  800 is Withdrawed from  109 \n",
      "Current balanace of  Account  109 is 7900 \n"
     ]
    },
    {
     "ename": "AttributeError",
     "evalue": "'str' object has no attribute 'deposite'",
     "output_type": "error",
     "traceback": [
      "\u001b[1;31m---------------------------------------------------------------------------\u001b[0m",
      "\u001b[1;31mAttributeError\u001b[0m                            Traceback (most recent call last)",
      "Cell \u001b[1;32mIn[9], line 1\u001b[0m\n\u001b[1;32m----> 1\u001b[0m A1\u001b[38;5;241m.\u001b[39mTransfer(\u001b[38;5;241m800\u001b[39m)\n",
      "Cell \u001b[1;32mIn[3], line 33\u001b[0m, in \u001b[0;36mAccount.Transfer\u001b[1;34m(self, amount, ac)\u001b[0m\n\u001b[0;32m     31\u001b[0m \u001b[38;5;28;01mdef\u001b[39;00m\u001b[38;5;250m \u001b[39m\u001b[38;5;21mTransfer\u001b[39m(\u001b[38;5;28mself\u001b[39m, amount  :  \u001b[38;5;28mint\u001b[39m\u001b[38;5;241m|\u001b[39m\u001b[38;5;28mfloat\u001b[39m , ac \u001b[38;5;241m=\u001b[39m  \u001b[38;5;124m\"\u001b[39m\u001b[38;5;124mAccount\u001b[39m\u001b[38;5;124m\"\u001b[39m):\n\u001b[0;32m     32\u001b[0m     \u001b[38;5;28mself\u001b[39m\u001b[38;5;241m.\u001b[39mWithdraw(amount)\n\u001b[1;32m---> 33\u001b[0m     ac\u001b[38;5;241m.\u001b[39mdeposite(amount)\n",
      "\u001b[1;31mAttributeError\u001b[0m: 'str' object has no attribute 'deposite'"
     ]
    }
   ],
   "source": [
    "A1.Transfer(800)"
   ]
  },
  {
   "cell_type": "code",
   "execution_count": null,
   "id": "c12a28d3",
   "metadata": {},
   "outputs": [],
   "source": []
  },
  {
   "cell_type": "code",
   "execution_count": null,
   "id": "e723c2c4",
   "metadata": {},
   "outputs": [],
   "source": []
  },
  {
   "cell_type": "code",
   "execution_count": null,
   "id": "7aabaff6",
   "metadata": {},
   "outputs": [],
   "source": []
  }
 ],
 "metadata": {
  "kernelspec": {
   "display_name": "base",
   "language": "python",
   "name": "python3"
  },
  "language_info": {
   "codemirror_mode": {
    "name": "ipython",
    "version": 3
   },
   "file_extension": ".py",
   "mimetype": "text/x-python",
   "name": "python",
   "nbconvert_exporter": "python",
   "pygments_lexer": "ipython3",
   "version": "3.13.5"
  }
 },
 "nbformat": 4,
 "nbformat_minor": 5
}
