{
 "cells": [
  {
   "cell_type": "markdown",
   "id": "e1f57b7a",
   "metadata": {},
   "source": [
    "### create decorater for welcoming user"
   ]
  },
  {
   "cell_type": "code",
   "execution_count": 1,
   "id": "088942ad",
   "metadata": {},
   "outputs": [],
   "source": [
    "def welcome(func):\n",
    "    def wrapper(*args , **kwargs):\n",
    "        print(\"Welcome User\")\n",
    "        result = func(*args, **kwargs)\n",
    "        print(f'Output of function -->, {result}')\n",
    "        print(\"Thank you\")\n",
    "        return result\n",
    "    return wrapper"
   ]
  },
  {
   "cell_type": "markdown",
   "id": "877b3938",
   "metadata": {},
   "source": [
    "### Create function to find simple interest and apply decorator"
   ]
  },
  {
   "cell_type": "code",
   "execution_count": 7,
   "id": "fa8e9aaf",
   "metadata": {},
   "outputs": [],
   "source": [
    "@welcome\n",
    "def Compound_Interest(P : int|float , N : int| float , R: int|float , t :int):\n",
    "        A = P*(1 + R/N)**(N*t)\n",
    "        CI = A-P\n",
    "        return f\"compound interest--> {CI}\""
   ]
  },
  {
   "cell_type": "code",
   "execution_count": 8,
   "id": "bf570ada",
   "metadata": {},
   "outputs": [
    {
     "name": "stdout",
     "output_type": "stream",
     "text": [
      "Welcome User\n",
      "Output of function -->, compound interest--> 7913516.799999998\n",
      "Thank you\n"
     ]
    },
    {
     "data": {
      "text/plain": [
       "'compound interest--> 7913516.799999998'"
      ]
     },
     "execution_count": 8,
     "metadata": {},
     "output_type": "execute_result"
    }
   ],
   "source": [
    "Compound_Interest(P = 10000 , R = 7 , N = 2.5 , t = 2)"
   ]
  },
  {
   "cell_type": "markdown",
   "id": "fbe6f0b7",
   "metadata": {},
   "source": [
    "### Login Authentication"
   ]
  },
  {
   "cell_type": "code",
   "execution_count": 9,
   "id": "d9fd2e4f",
   "metadata": {},
   "outputs": [],
   "source": [
    "import time"
   ]
  },
  {
   "cell_type": "code",
   "execution_count": 10,
   "id": "d178e3de",
   "metadata": {},
   "outputs": [],
   "source": [
    "def timer_decorator(func):\n",
    "    \"\"\"\n",
    "    A decorator that measures the execution time of a function\n",
    "    and prints the elapsed time.\n",
    "    \"\"\"\n",
    "    def wrapper(*args, **kwargs):\n",
    "        start_time = time.perf_counter()  # Use perf_counter for precise measurements\n",
    "        result = func(*args, **kwargs)\n",
    "        end_time = time.perf_counter()\n",
    "        elapsed_time = end_time - start_time\n",
    "        print(f\"Function '{func.__name__}' took {elapsed_time:.4f} seconds to execute.\")\n",
    "        return result\n",
    "    return wrapper"
   ]
  },
  {
   "cell_type": "code",
   "execution_count": 11,
   "id": "b9f59448",
   "metadata": {},
   "outputs": [],
   "source": [
    "@timer_decorator\n",
    "def my_function(n):\n",
    "    \"\"\"An example function to be timed.\"\"\"\n",
    "    sum_val = 0\n",
    "    for i in range(n):\n",
    "        sum_val += i\n",
    "    return sum_val"
   ]
  },
  {
   "cell_type": "code",
   "execution_count": 12,
   "id": "7f55a493",
   "metadata": {},
   "outputs": [],
   "source": [
    "@timer_decorator\n",
    "def another_function(text):\n",
    "    \"\"\"Another example function.\"\"\"\n",
    "    time.sleep(1.5)  # Simulate some work\n",
    "    return f\"Processed: {text}\""
   ]
  },
  {
   "cell_type": "code",
   "execution_count": 13,
   "id": "865dd666",
   "metadata": {},
   "outputs": [
    {
     "name": "stdout",
     "output_type": "stream",
     "text": [
      "Function 'my_function' took 0.1473 seconds to execute.\n",
      "Function 'another_function' took 1.5005 seconds to execute.\n"
     ]
    },
    {
     "data": {
      "text/plain": [
       "'Processed: Hello Decorators'"
      ]
     },
     "execution_count": 13,
     "metadata": {},
     "output_type": "execute_result"
    }
   ],
   "source": [
    "my_function(1000000)\n",
    "another_function(\"Hello Decorators\")"
   ]
  },
  {
   "cell_type": "markdown",
   "id": "ce499859",
   "metadata": {},
   "source": [
    "### Explanation:\n",
    "- timer_decorator(func): This is the decorator function. It takes func (the function to be decorated) as input.\n",
    "- **`wrapper(*args, **: kwargs):** This inner function is the \"wrapper.\" It accepts arbitrary positional (*args`) and keyword (**kwargs) arguments, allowing it to work with any function signature.\n",
    "- start_time = time.perf_counter(): Records the time before the decorated function executes using time.perf_counter(), which provides a high-resolution, monotonic clock.\n",
    "-  **`result = func(*args, **: kwargs)`:** Calls the original decorated function with its arguments.\n",
    "-  end_time = time.perf_counter(): Records the time after the decorated function finishes.\n",
    "-  elapsed_time = end_time - start_time: Calculates the difference to get the execution time.\n",
    "-  print(...): Displays the function's name and the calculated elapsed time, formatted to four decimal places.\n",
    "-  return result: Returns the result of the original decorated function.\n",
    "-  return wrapper: The timer_decorator returns the wrapper function, which replaces the original function when the decorator is applied.\n",
    "- @timer_decorator: This syntax applies the timer_decorator to my_function and another_function, effectively wrapping their execution with the timing logic."
   ]
  },
  {
   "cell_type": "code",
   "execution_count": null,
   "id": "df8fecdf",
   "metadata": {},
   "outputs": [],
   "source": []
  }
 ],
 "metadata": {
  "kernelspec": {
   "display_name": "base",
   "language": "python",
   "name": "python3"
  },
  "language_info": {
   "codemirror_mode": {
    "name": "ipython",
    "version": 3
   },
   "file_extension": ".py",
   "mimetype": "text/x-python",
   "name": "python",
   "nbconvert_exporter": "python",
   "pygments_lexer": "ipython3",
   "version": "3.13.5"
  }
 },
 "nbformat": 4,
 "nbformat_minor": 5
}
